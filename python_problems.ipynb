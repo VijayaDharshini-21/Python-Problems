{
  "nbformat": 4,
  "nbformat_minor": 0,
  "metadata": {
    "colab": {
      "provenance": []
    },
    "kernelspec": {
      "name": "python3",
      "display_name": "Python 3"
    },
    "language_info": {
      "name": "python"
    }
  },
  "cells": [
    {
      "cell_type": "code",
      "execution_count": null,
      "metadata": {
        "colab": {
          "base_uri": "https://localhost:8080/"
        },
        "id": "Gv7DHCtDSiyp",
        "outputId": "0ebc160e-a645-4873-c524-0526d2f874df"
      },
      "outputs": [
        {
          "output_type": "stream",
          "name": "stdout",
          "text": [
            "1025\n",
            "Mugs\n"
          ]
        }
      ],
      "source": [
        "num = input()\n",
        "temp =\"\"\n",
        "if (int(num) % 3==0 or '3' in str(num)):\n",
        "  temp = temp+\"Jugs\"\n",
        "if (int(num) % 5==0 or '5' in str(num)):\n",
        "  temp= temp + \"Mugs\"\n",
        "if (int(num) % 7==0 or '7' in str(num)):\n",
        "  temp= temp+\"Pugs\"\n",
        "print(num if temp==\"\" else temp)\n"
      ]
    },
    {
      "cell_type": "markdown",
      "source": [],
      "metadata": {
        "id": "pVW2Pzrne2Q5"
      }
    },
    {
      "cell_type": "code",
      "source": [
        "n= int(input())\n",
        "if n%3==0 and n%5==0 and n%7==0:\n",
        "  print(\"JugsMugsPugs\")\n",
        "elif n%3==0 and n%5==0:\n",
        "  print(\"JugsMugs\")\n",
        "elif n%3==0  and n%7==0:\n",
        "  print(\"JugsPugs\")\n",
        "elif n%5==0 and n%7==0:\n",
        "  print(\"MugsPugs\")\n",
        "elif n%3==0:\n",
        "  print(\"Jugs\")\n",
        "elif n%5==0:\n",
        "  print(\"Mugs\")\n",
        "elif n%7==0:\n",
        "  print(\"Pugs\")\n",
        "else:\n",
        "  print('n')"
      ],
      "metadata": {
        "colab": {
          "base_uri": "https://localhost:8080/"
        },
        "id": "hu0gPFiMUXA-",
        "outputId": "90e429d4-e85c-46e4-8f2d-ebbb43713443"
      },
      "execution_count": null,
      "outputs": [
        {
          "output_type": "stream",
          "name": "stdout",
          "text": [
            "45\n",
            "JugsMugs\n"
          ]
        }
      ]
    },
    {
      "cell_type": "code",
      "source": [
        "n = int(input())\n",
        "list1 = [3,5,7]\n",
        "list2 = [\"Jugs\",\"Mugs\",\"Pugs\"]\n",
        "for i in list1:\n",
        "    if n%i==0:\n",
        "        a = list1.index(i)\n",
        "        print(list2[a],end=\" \")"
      ],
      "metadata": {
        "colab": {
          "base_uri": "https://localhost:8080/"
        },
        "id": "vtjm_EFqcAFI",
        "outputId": "c879813b-5078-47be-ba53-b761275bc062"
      },
      "execution_count": null,
      "outputs": [
        {
          "output_type": "stream",
          "name": "stdout",
          "text": [
            "5\n",
            "Mugs "
          ]
        }
      ]
    },
    {
      "cell_type": "markdown",
      "source": [
        "reverse the words"
      ],
      "metadata": {
        "id": "aSFuIugien2i"
      }
    },
    {
      "cell_type": "code",
      "source": [
        "str= \"Jugs Mugs Pugs\"\n",
        "s = str.split()[::-1]\n",
        "list = []\n",
        "for i in s:\n",
        "    list.append(i)\n",
        "print(\" \".join(list))"
      ],
      "metadata": {
        "colab": {
          "base_uri": "https://localhost:8080/"
        },
        "id": "Z1sP_gRJc4oJ",
        "outputId": "c193ebdd-4d98-4266-fa94-9edd98b3d5b6"
      },
      "execution_count": null,
      "outputs": [
        {
          "output_type": "stream",
          "name": "stdout",
          "text": [
            "Pugs Mugs Jugs\n"
          ]
        }
      ]
    },
    {
      "cell_type": "code",
      "source": [
        "str = \"Jugs Mugs Pugs\"; print(\" \".join(str.split()[::-1]))\n"
      ],
      "metadata": {
        "colab": {
          "base_uri": "https://localhost:8080/"
        },
        "id": "sFVw9MjGebNR",
        "outputId": "7baa6159-74f2-4760-98b2-0b60d97ff9c6"
      },
      "execution_count": null,
      "outputs": [
        {
          "output_type": "stream",
          "name": "stdout",
          "text": [
            "Pugs Mugs Jugs\n"
          ]
        }
      ]
    },
    {
      "cell_type": "code",
      "source": [
        "def find_duplicates(input_string):\n",
        "    return [char for char in set(input_string) if input_string.count(char) > 1]\n",
        "input_string = \"mnoooptqrsssshuuuumlllaeeii\"\n",
        "duplicates = find_duplicates(input_string)\n",
        "print(\"Duplicates:\", duplicates)\n"
      ],
      "metadata": {
        "colab": {
          "base_uri": "https://localhost:8080/"
        },
        "id": "55QWYk8oebuZ",
        "outputId": "c363285e-2101-42f6-af7b-385b3469a35c"
      },
      "execution_count": null,
      "outputs": [
        {
          "output_type": "stream",
          "name": "stdout",
          "text": [
            "Duplicates: ['m', 'u', 'l', 'i', 's', 'e', 'o']\n"
          ]
        }
      ]
    },
    {
      "cell_type": "code",
      "source": [],
      "metadata": {
        "id": "1kPIuZrTgw-L"
      },
      "execution_count": null,
      "outputs": []
    }
  ]
}